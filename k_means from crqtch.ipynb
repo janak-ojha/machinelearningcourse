{
 "cells": [
  {
   "cell_type": "code",
   "execution_count": 1,
   "id": "3045e014",
   "metadata": {},
   "outputs": [],
   "source": [
    "import random\n",
    "class KMeans:\n",
    "    def __init__(self,n_clusters=2,max_iter=100):\n",
    "        self.n_clussters=n_clusters\n",
    "        self.max_iter=msx_iter\n",
    "        self.centroids=None\n",
    "    \n",
    "    def fit_predict(self,X):\n",
    "        random_index=random.samples(range(0,X.shape[0]),self.n_clusters)\n",
    "        self.centroids=X[random_index]\n",
    "        \n",
    "        \n",
    "        for i in range(Self,max_iter):\n",
    "            cluster_group=self.assign_cluster(x)\n",
    "            \n",
    "        \n",
    "    def assign_clusters(self,X):\n",
    "        cluster_group=[]\n",
    "        distances=[]\n",
    "        \n",
    "        for row in X:\n",
    "            for centroid in self.centroids:\n",
    "                distances.append(np.sqrt(np.dot(row-centroid,row-centroid)))\n",
    "            print (distances) \n",
    "            distances.clear()\n",
    "        return cluster_group    "
   ]
  },
  {
   "cell_type": "code",
   "execution_count": null,
   "id": "0b9c187d",
   "metadata": {},
   "outputs": [],
   "source": []
  },
  {
   "cell_type": "code",
   "execution_count": 2,
   "id": "590208d0",
   "metadata": {},
   "outputs": [],
   "source": [
    "import pandas as pd\n",
    "import numpy as np\n",
    "from sklearn.datasets import make_blobs\n",
    "import matplotlib.pyplot as plt\n",
    "from  sklearn.cluster import KMeans"
   ]
  },
  {
   "cell_type": "code",
   "execution_count": 3,
   "id": "00c24184",
   "metadata": {},
   "outputs": [],
   "source": [
    "centroids=[(-5,-5),(5,5)]\n",
    "cluster_std=[1,1]"
   ]
  },
  {
   "cell_type": "code",
   "execution_count": 4,
   "id": "4b065fd2",
   "metadata": {},
   "outputs": [],
   "source": [
    "X,y=make_blobs(n_samples=100,cluster_std=cluster_std,centers=centroids,n_features=2,random_state=1)\n",
    "\n"
   ]
  },
  {
   "cell_type": "code",
   "execution_count": 5,
   "id": "ae74387e",
   "metadata": {},
   "outputs": [],
   "source": [
    "km=KMeans(n_clusters=2,max_iter=100)"
   ]
  },
  {
   "cell_type": "code",
   "execution_count": 6,
   "id": "9b4b7b7c",
   "metadata": {},
   "outputs": [
    {
     "name": "stderr",
     "output_type": "stream",
     "text": [
      "C:\\Users\\JANAK RAJ OJHA\\AppData\\Local\\Programs\\Python\\Python311\\Lib\\site-packages\\sklearn\\cluster\\_kmeans.py:870: FutureWarning: The default value of `n_init` will change from 10 to 'auto' in 1.4. Set the value of `n_init` explicitly to suppress the warning\n",
      "  warnings.warn(\n"
     ]
    },
    {
     "data": {
      "text/plain": [
       "array([0, 1, 1, 1, 1, 1, 1, 0, 0, 1, 1, 0, 1, 1, 0, 1, 0, 1, 1, 1, 1, 0,\n",
       "       0, 1, 1, 0, 0, 0, 1, 0, 0, 1, 0, 1, 0, 1, 1, 1, 1, 0, 0, 0, 1, 0,\n",
       "       1, 0, 0, 0, 0, 0, 1, 1, 1, 0, 1, 0, 1, 0, 0, 0, 1, 1, 1, 1, 1, 0,\n",
       "       1, 0, 1, 1, 1, 1, 0, 0, 0, 1, 1, 0, 0, 0, 1, 0, 1, 0, 0, 0, 0, 0,\n",
       "       0, 1, 0, 0, 0, 1, 1, 1, 0, 0, 1, 0])"
      ]
     },
     "execution_count": 6,
     "metadata": {},
     "output_type": "execute_result"
    }
   ],
   "source": [
    "km.fit_predict(X)"
   ]
  },
  {
   "cell_type": "code",
   "execution_count": 16,
   "id": "d30933c2",
   "metadata": {},
   "outputs": [
    {
     "name": "stderr",
     "output_type": "stream",
     "text": [
      "C:\\Users\\JANAK RAJ OJHA\\AppData\\Local\\Programs\\Python\\Python311\\Lib\\site-packages\\sklearn\\cluster\\_kmeans.py:870: FutureWarning: The default value of `n_init` will change from 10 to 'auto' in 1.4. Set the value of `n_init` explicitly to suppress the warning\n",
      "  warnings.warn(\n"
     ]
    }
   ],
   "source": [
    "from sklearn.datasets import make_blobs\n",
    "\n",
    "from sklearn.cluster import KMeans\n",
    "import pandas as pd\n",
    "import numpy as np\n",
    "\n",
    "centroids = [(-5,-5),(5,5)]\n",
    "cluster_std = [1,1]\n",
    "\n",
    "X,y = make_blobs(n_samples=100,cluster_std=cluster_std,centers=centroids,n_features=2,random_state=2)\n",
    "\n",
    "#plt.scatter(X[:,0],X[:,1])\n",
    "\n",
    "#df = pd.read_csv('student_clustering.csv')\n",
    "\n",
    "#X = df.iloc[:,:].values\n",
    "\n",
    "km = KMeans(n_clusters=2,max_iter=100)\n",
    "y_means = km.fit_predict(X)\n"
   ]
  }
 ],
 "metadata": {
  "kernelspec": {
   "display_name": "Python 3 (ipykernel)",
   "language": "python",
   "name": "python3"
  },
  "language_info": {
   "codemirror_mode": {
    "name": "ipython",
    "version": 3
   },
   "file_extension": ".py",
   "mimetype": "text/x-python",
   "name": "python",
   "nbconvert_exporter": "python",
   "pygments_lexer": "ipython3",
   "version": "3.11.0"
  }
 },
 "nbformat": 4,
 "nbformat_minor": 5
}
