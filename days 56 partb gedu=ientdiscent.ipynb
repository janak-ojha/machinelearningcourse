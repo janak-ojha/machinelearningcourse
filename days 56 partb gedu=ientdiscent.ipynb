{
 "cells": [
  {
   "cell_type": "code",
   "execution_count": 1,
   "id": "19808a80",
   "metadata": {},
   "outputs": [],
   "source": [
    "import pandas as pd\n",
    "import numpy as np\n",
    "from sklearn.linear_model import LinearRegression\n",
    "import matplotlib.pyplot as plt\n",
    "from sklearn.datasets import make_regression\n",
    "from sklearn.model_selection import cross_val_score"
   ]
  },
  {
   "cell_type": "code",
   "execution_count": 2,
   "id": "5e3746ce",
   "metadata": {},
   "outputs": [],
   "source": [
    "X,y=make_regression(n_samples=100,n_features=1,n_informative=1,n_targets=1,noise=20,random_state=13)\n"
   ]
  },
  {
   "cell_type": "code",
   "execution_count": 3,
   "id": "2231562f",
   "metadata": {},
   "outputs": [
    {
     "data": {
      "text/plain": [
       "<matplotlib.collections.PathCollection at 0x1b91ef62110>"
      ]
     },
     "execution_count": 3,
     "metadata": {},
     "output_type": "execute_result"
    },
    {
     "data": {
      "image/png": "[encoded data removed]",
      "text/plain": [
       "<Figure size 640x480 with 1 Axes>"
      ]
     },
     "metadata": {},
     "output_type": "display_data"
    }
   ],
   "source": [
    "plt.scatter(X,y)"
   ]
  },
  {
   "cell_type": "code",
   "execution_count": 4,
   "id": "948ea770",
   "metadata": {},
   "outputs": [],
   "source": [
    "from sklearn.model_selection import train_test_split\n",
    "X_train,X_test,y_train,y_test=train_test_split(X,y,test_size=0.2,random_state=2)"
   ]
  },
  {
   "cell_type": "code",
   "execution_count": null,
   "id": "951420de",
   "metadata": {},
   "outputs": [],
   "source": []
  },
  {
   "cell_type": "code",
   "execution_count": null,
   "id": "ebdb2cc2",
   "metadata": {},
   "outputs": [],
   "source": []
  },
  {
   "cell_type": "code",
   "execution_count": 5,
   "id": "a17e94b0",
   "metadata": {},
   "outputs": [],
   "source": [
    "lr=LinearRegression()"
   ]
  },
  {
   "cell_type": "code",
   "execution_count": 6,
   "id": "912eaa9d",
   "metadata": {},
   "outputs": [
    {
     "name": "stdout",
     "output_type": "stream",
     "text": [
      "[28.12597332]\n",
      "-2.2710144261783825\n"
     ]
    }
   ],
   "source": [
    "lr.fit(X_train,y_train)\n",
    "print(lr.coef_)\n",
    "print(lr.intercept_)"
   ]
  },
  {
   "cell_type": "code",
   "execution_count": 7,
   "id": "2bd6d0ad",
   "metadata": {},
   "outputs": [
    {
     "data": {
      "text/plain": [
       "0.6345158782661012"
      ]
     },
     "execution_count": 7,
     "metadata": {},
     "output_type": "execute_result"
    }
   ],
   "source": [
    "y_pred=lr.predict(X_test)\n",
    "from sklearn.metrics import r2_score\n",
    "r2_score(y_test,y_pred)"
   ]
  },
  {
   "cell_type": "code",
   "execution_count": 8,
   "id": "1edcebb6",
   "metadata": {},
   "outputs": [],
   "source": [
    "class GDRegressor:\n",
    "    \n",
    "    def __init__(self,learning_rate,epochs):\n",
    "        self.m=100\n",
    "        self.b=-120\n",
    "        self.lr=learning_rate\n",
    "        self.epochs=epochs\n",
    "        \n",
    "    def fit(self,X,y):\n",
    "        for i in range(self.epochs):\n",
    "            loss_slope_b=-2*np.sum(y-self.m*X.ravel()-self.b)\n",
    "            loss_slope_m=-2*np.sum((y-self.m*X.ravel()-self.b)*X.ravel())\n",
    "            self.b=self.b-(self.lr*loss_slope_b)\n",
    "            self.m=self.m-(self.lr*loss_slope_m)\n",
    "            \n",
    "        print(self.m,self.b)\n",
    "    def predict( self,X):\n",
    "        return self.m*X+self.b\n",
    "   \n",
    "\n",
    "    "
   ]
  },
  {
   "cell_type": "code",
   "execution_count": 9,
   "id": "7ffdbe6f",
   "metadata": {},
   "outputs": [],
   "source": [
    "gd=GDRegressor(0.001,50)"
   ]
  },
  {
   "cell_type": "code",
   "execution_count": 10,
   "id": "bb6338de",
   "metadata": {},
   "outputs": [
    {
     "name": "stdout",
     "output_type": "stream",
     "text": [
      "28.159367347119066 -2.3004574196824854\n"
     ]
    }
   ],
   "source": [
    "gd.fit(X_train,y_train)"
   ]
  },
  {
   "cell_type": "code",
   "execution_count": 24,
   "id": "d201f816",
   "metadata": {},
   "outputs": [],
   "source": [
    "b=-120\n",
    "m=100\n",
    "lr=0.01\n",
    "all_b=[]\n",
    "all_m=[]\n",
    "all_cost=[]\n",
    "\n",
    "epochs = 30\n",
    "\n",
    "for i in range(epochs):\n",
    "    slope_b=0\n",
    "    slope_m=0\n",
    "    cost = 0\n",
    "    \n",
    "for j in range(X.shape[0]):\n",
    "    slope_b=slope_b-2*(y[j]*(m*X[j])-b)\n",
    "    slope_m=slope_m-2*(y[j]*(m*X[j])-b)*X[j]\n",
    "    cost=cost+(y[j]-m*X[j]-b)**2\n",
    "    \n",
    "b=b-(lr*slope_b)\n",
    "m=m-(lr*slope_m)\n",
    "all_b.append(b)\n",
    "all_m.append(m)\n",
    "all_cost.append(cost)\n",
    "    "
   ]
  },
  {
   "cell_type": "code",
   "execution_count": 34,
   "id": "2fb1adde",
   "metadata": {},
   "outputs": [
    {
     "ename": "NameError",
     "evalue": "name 'FuncAnimation' is not defined",
     "output_type": "error",
     "traceback": [
      "\u001b[1;31m---------------------------------------------------------------------------\u001b[0m",
      "\u001b[1;31mNameError\u001b[0m                                 Traceback (most recent call last)",
      "Cell \u001b[1;32mIn[34], line 11\u001b[0m\n\u001b[0;32m      8\u001b[0m         line\u001b[38;5;241m.\u001b[39mset_ydata(x_i\u001b[38;5;241m*\u001b[39mall_m[i]\u001b[38;5;241m+\u001b[39mall_b[i])\n\u001b[0;32m      9\u001b[0m         ax\u001b[38;5;241m.\u001b[39mset_xlabel(label)\n\u001b[1;32m---> 11\u001b[0m anim\u001b[38;5;241m=\u001b[39m\u001b[43mFuncAnimation\u001b[49m(fig,update,repeat\u001b[38;5;241m=\u001b[39m\u001b[38;5;28;01mTrue\u001b[39;00m,frames\u001b[38;5;241m=\u001b[39mepochs,interval\u001b[38;5;241m=\u001b[39m\u001b[38;5;241m500\u001b[39m)        \n",
      "\u001b[1;31mNameError\u001b[0m: name 'FuncAnimation' is not defined"
     ]
    },
    {
     "data": {
      "image/png": "[encoded data removed]",
      "text/plain": [
       "<Figure size 900x500 with 1 Axes>"
      ]
     },
     "metadata": {},
     "output_type": "display_data"
    }
   ],
   "source": [
    "fig,ax=plt.subplots(figsize=(9,5))\n",
    "x_i=np.arange(-3,3,0.1)\n",
    "y_i=x_i*(-27)-150\n",
    "ax.scatter(X,y)\n",
    "line,=ax.plot(x_i,x_i*50-4,'r-',linewidth=2)\n",
    "def update(i):\n",
    "        label='epoch{0}',format(i+1)\n",
    "        line.set_ydata(x_i*all_m[i]+all_b[i])\n",
    "        ax.set_xlabel(label)\n",
    "        \n",
    "#anim=FuncAnimation(fig,update,repeat=True,frames=epochs,interval=500)        \n",
    "        "
   ]
  },
  {
   "cell_type": "code",
   "execution_count": null,
   "id": "fa6113a0",
   "metadata": {},
   "outputs": [],
   "source": []
  },
  {
   "cell_type": "code",
   "execution_count": null,
   "id": "5d61bf76",
   "metadata": {},
   "outputs": [],
   "source": []
  },
  {
   "cell_type": "code",
   "execution_count": null,
   "id": "8177e36e",
   "metadata": {},
   "outputs": [],
   "source": []
  },
  {
   "cell_type": "code",
   "execution_count": null,
   "id": "2baf35b7",
   "metadata": {},
   "outputs": [],
   "source": []
  },
  {
   "cell_type": "code",
   "execution_count": null,
   "id": "86274f18",
   "metadata": {},
   "outputs": [],
   "source": []
  }
 ],
 "metadata": {
  "kernelspec": {
   "display_name": "Python 3 (ipykernel)",
   "language": "python",
   "name": "python3"
  },
  "language_info": {
   "codemirror_mode": {
    "name": "ipython",
    "version": 3
   },
   "file_extension": ".py",
   "mimetype": "text/x-python",
   "name": "python",
   "nbconvert_exporter": "python",
   "pygments_lexer": "ipython3",
   "version": "3.11.0"
  }
 },
 "nbformat": 4,
 "nbformat_minor": 5
}
