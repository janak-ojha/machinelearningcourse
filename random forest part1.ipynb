{
 "cells": [
  {
   "cell_type": "code",
   "execution_count": 1,
   "id": "dd9ce9de",
   "metadata": {},
   "outputs": [],
   "source": [
    "import pandas as pd\n",
    "import numpy as np\n",
    "from sklearn.datasets import make_classification\n",
    "\n",
    "\n"
   ]
  },
  {
   "cell_type": "code",
   "execution_count": 2,
   "id": "15e0a203",
   "metadata": {},
   "outputs": [],
   "source": [
    "X,y=make_classification(n_features=5,n_redundant=0,n_informative=5,n_clusters_per_class=1)\n"
   ]
  },
  {
   "cell_type": "code",
   "execution_count": 3,
   "id": "8534d7ce",
   "metadata": {},
   "outputs": [
    {
     "name": "stdout",
     "output_type": "stream",
     "text": [
      "(100, 6)\n"
     ]
    },
    {
     "data": {
      "text/html": [
       "<div>\n",
       "<style scoped>\n",
       "    .dataframe tbody tr th:only-of-type {\n",
       "        vertical-align: middle;\n",
       "    }\n",
       "\n",
       "    .dataframe tbody tr th {\n",
       "        vertical-align: top;\n",
       "    }\n",
       "\n",
       "    .dataframe thead th {\n",
       "        text-align: right;\n",
       "    }\n",
       "</style>\n",
       "<table border=\"1\" class=\"dataframe\">\n",
       "  <thead>\n",
       "    <tr style=\"text-align: right;\">\n",
       "      <th></th>\n",
       "      <th>col1</th>\n",
       "      <th>col2</th>\n",
       "      <th>col3</th>\n",
       "      <th>col4</th>\n",
       "      <th>col5</th>\n",
       "      <th>target</th>\n",
       "    </tr>\n",
       "  </thead>\n",
       "  <tbody>\n",
       "    <tr>\n",
       "      <th>0</th>\n",
       "      <td>-1.112779</td>\n",
       "      <td>0.634005</td>\n",
       "      <td>1.197956</td>\n",
       "      <td>1.650240</td>\n",
       "      <td>0.539900</td>\n",
       "      <td>0</td>\n",
       "    </tr>\n",
       "    <tr>\n",
       "      <th>1</th>\n",
       "      <td>-0.892781</td>\n",
       "      <td>2.236940</td>\n",
       "      <td>-0.426399</td>\n",
       "      <td>3.002198</td>\n",
       "      <td>-1.289061</td>\n",
       "      <td>0</td>\n",
       "    </tr>\n",
       "    <tr>\n",
       "      <th>2</th>\n",
       "      <td>-0.602573</td>\n",
       "      <td>0.819292</td>\n",
       "      <td>4.006894</td>\n",
       "      <td>-3.084272</td>\n",
       "      <td>-2.102245</td>\n",
       "      <td>1</td>\n",
       "    </tr>\n",
       "    <tr>\n",
       "      <th>3</th>\n",
       "      <td>-2.776144</td>\n",
       "      <td>-2.219955</td>\n",
       "      <td>0.270395</td>\n",
       "      <td>1.745341</td>\n",
       "      <td>-0.494797</td>\n",
       "      <td>1</td>\n",
       "    </tr>\n",
       "    <tr>\n",
       "      <th>4</th>\n",
       "      <td>-3.065973</td>\n",
       "      <td>1.807204</td>\n",
       "      <td>-0.495042</td>\n",
       "      <td>-1.348936</td>\n",
       "      <td>1.891529</td>\n",
       "      <td>0</td>\n",
       "    </tr>\n",
       "  </tbody>\n",
       "</table>\n",
       "</div>"
      ],
      "text/plain": [
       "       col1      col2      col3      col4      col5  target\n",
       "0 -1.112779  0.634005  1.197956  1.650240  0.539900       0\n",
       "1 -0.892781  2.236940 -0.426399  3.002198 -1.289061       0\n",
       "2 -0.602573  0.819292  4.006894 -3.084272 -2.102245       1\n",
       "3 -2.776144 -2.219955  0.270395  1.745341 -0.494797       1\n",
       "4 -3.065973  1.807204 -0.495042 -1.348936  1.891529       0"
      ]
     },
     "execution_count": 3,
     "metadata": {},
     "output_type": "execute_result"
    }
   ],
   "source": [
    "df=pd.DataFrame(X,columns=['col1','col2','col3','col4','col5'])\n",
    "df['target']=y\n",
    "print(df.shape)\n",
    "df.head()"
   ]
  },
  {
   "cell_type": "code",
   "execution_count": 4,
   "id": "c1c9f734",
   "metadata": {},
   "outputs": [],
   "source": [
    "def sample_row(df,percent):\n",
    "    return df.sample(int(percent*df.shape[0]),replace=True)\n"
   ]
  },
  {
   "cell_type": "code",
   "execution_count": 5,
   "id": "5767efdd",
   "metadata": {},
   "outputs": [],
   "source": [
    "def sample_features(df,percent):\n",
    "    return random.sample(df.columns.tolist()[:,-1],int(percent*(df.shape[1]-1)))"
   ]
  },
  {
   "cell_type": "code",
   "execution_count": 6,
   "id": "bdd92ebd",
   "metadata": {},
   "outputs": [],
   "source": [
    "def combined_sampling(df,row_percent,col_percent):\n",
    "    new_df=sample_rows(df,row_percent)\n",
    "    return sample_features(df,col_percent)"
   ]
  },
  {
   "cell_type": "code",
   "execution_count": 7,
   "id": "e7ce6790",
   "metadata": {},
   "outputs": [
    {
     "ename": "NameError",
     "evalue": "name 'random' is not defined",
     "output_type": "error",
     "traceback": [
      "\u001b[1;31m---------------------------------------------------------------------------\u001b[0m",
      "\u001b[1;31mNameError\u001b[0m                                 Traceback (most recent call last)",
      "Cell \u001b[1;32mIn[7], line 1\u001b[0m\n\u001b[1;32m----> 1\u001b[0m df1\u001b[38;5;241m=\u001b[39m\u001b[43msample_features\u001b[49m\u001b[43m(\u001b[49m\u001b[43mdf\u001b[49m\u001b[43m,\u001b[49m\u001b[38;5;241;43m0.2\u001b[39;49m\u001b[43m)\u001b[49m\n",
      "Cell \u001b[1;32mIn[5], line 2\u001b[0m, in \u001b[0;36msample_features\u001b[1;34m(df, percent)\u001b[0m\n\u001b[0;32m      1\u001b[0m \u001b[38;5;28;01mdef\u001b[39;00m \u001b[38;5;21msample_features\u001b[39m(df,percent):\n\u001b[1;32m----> 2\u001b[0m     \u001b[38;5;28;01mreturn\u001b[39;00m \u001b[43mrandom\u001b[49m\u001b[38;5;241m.\u001b[39msample(df\u001b[38;5;241m.\u001b[39mcolumns\u001b[38;5;241m.\u001b[39mtolist()[:,\u001b[38;5;241m-\u001b[39m\u001b[38;5;241m1\u001b[39m],\u001b[38;5;28mint\u001b[39m(percent\u001b[38;5;241m*\u001b[39m(df\u001b[38;5;241m.\u001b[39mshape[\u001b[38;5;241m1\u001b[39m]\u001b[38;5;241m-\u001b[39m\u001b[38;5;241m1\u001b[39m)))\n",
      "\u001b[1;31mNameError\u001b[0m: name 'random' is not defined"
     ]
    }
   ],
   "source": [
    "df1=sample_features(df,0.7)"
   ]
  },
  {
   "cell_type": "code",
   "execution_count": null,
   "id": "c20800c9",
   "metadata": {},
   "outputs": [],
   "source": [
    "df2=sample_features(df,0.7)"
   ]
  },
  {
   "cell_type": "code",
   "execution_count": null,
   "id": "f2085507",
   "metadata": {},
   "outputs": [],
   "source": [
    "df3=sample_features(df,0.7)"
   ]
  },
  {
   "cell_type": "code",
   "execution_count": null,
   "id": "69ceabb2",
   "metadata": {},
   "outputs": [],
   "source": [
    "df1.shape"
   ]
  },
  {
   "cell_type": "code",
   "execution_count": null,
   "id": "21521039",
   "metadata": {},
   "outputs": [],
   "source": [
    "from sklearn.tree import DecisionTreeClassifier"
   ]
  },
  {
   "cell_type": "code",
   "execution_count": null,
   "id": "53caff97",
   "metadata": {},
   "outputs": [],
   "source": [
    "clf1=DecisionTreeClassifier()\n",
    "clf2=DecisionTreeClassifier()\n",
    "clf3=DecisionTreeClassifier()"
   ]
  },
  {
   "cell_type": "code",
   "execution_count": null,
   "id": "4350fcb2",
   "metadata": {},
   "outputs": [],
   "source": [
    "clf1.fit(df1.iloc[:,0:5],df1.iloc[:,-1])\n",
    "clf2.fit(df2.iloc[:,0:5],df2.iloc[:,-1])\n",
    "clf3.fit(df2.iloc[:,0:5],df3.iloc[:,-1])"
   ]
  },
  {
   "cell_type": "code",
   "execution_count": null,
   "id": "9706b0bf",
   "metadata": {},
   "outputs": [],
   "source": [
    "from sklearn.tree import plot_tree"
   ]
  },
  {
   "cell_type": "code",
   "execution_count": null,
   "id": "996cb677",
   "metadata": {},
   "outputs": [],
   "source": [
    "plot_tree(clf1)"
   ]
  },
  {
   "cell_type": "code",
   "execution_count": null,
   "id": "1173b8e6",
   "metadata": {},
   "outputs": [],
   "source": [
    "plot_tree(clf2)"
   ]
  },
  {
   "cell_type": "code",
   "execution_count": null,
   "id": "d73fa39e",
   "metadata": {},
   "outputs": [],
   "source": [
    "plot_tree(clf3)"
   ]
  },
  {
   "cell_type": "code",
   "execution_count": null,
   "id": "fed754e1",
   "metadata": {},
   "outputs": [],
   "source": [
    "clf1.predict(np.array([-0.605190,-0.799964,0.604489,2.928895,0.323469]).reshape(1,5))"
   ]
  },
  {
   "cell_type": "code",
   "execution_count": null,
   "id": "aa5fb0b2",
   "metadata": {},
   "outputs": [],
   "source": [
    "clf2.predict(np.array([-0.605190,-0.799964,0.604489,2.928895,0.323469]).reshape(1,5))"
   ]
  },
  {
   "cell_type": "code",
   "execution_count": null,
   "id": "bb64a19d",
   "metadata": {},
   "outputs": [],
   "source": [
    "clf3.predict(np.array([-0.605190,-0.799964,0.604489,2.928895,0.323469]).reshape(1,5))"
   ]
  },
  {
   "cell_type": "code",
   "execution_count": null,
   "id": "4e25824f",
   "metadata": {},
   "outputs": [],
   "source": []
  },
  {
   "cell_type": "code",
   "execution_count": null,
   "id": "6c0c6c13",
   "metadata": {},
   "outputs": [],
   "source": []
  },
  {
   "cell_type": "code",
   "execution_count": null,
   "id": "5f353868",
   "metadata": {},
   "outputs": [],
   "source": []
  }
 ],
 "metadata": {
  "kernelspec": {
   "display_name": "Python 3 (ipykernel)",
   "language": "python",
   "name": "python3"
  },
  "language_info": {
   "codemirror_mode": {
    "name": "ipython",
    "version": 3
   },
   "file_extension": ".py",
   "mimetype": "text/x-python",
   "name": "python",
   "nbconvert_exporter": "python",
   "pygments_lexer": "ipython3",
   "version": "3.11.0"
  }
 },
 "nbformat": 4,
 "nbformat_minor": 5
}
